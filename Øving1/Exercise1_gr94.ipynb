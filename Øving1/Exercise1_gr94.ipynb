{
  "nbformat": 4,
  "nbformat_minor": 0,
  "metadata": {
    "colab": {
      "name": "Copy of Exercise 1.ipynb",
      "version": "0.3.2",
      "views": {},
      "default_view": {},
      "provenance": [
        {
          "file_id": "1uLXrc14GJBp_prLEm0vRdc3f4yMBbf4_",
          "timestamp": 1518181763427
        }
      ],
      "collapsed_sections": []
    },
    "kernelspec": {
      "display_name": "Python 3",
      "language": "python",
      "name": "python3"
    },
    "accelerator": "GPU"
  },
  "cells": [
    {
      "metadata": {
        "id": "gdaVMQ8It-Lf",
        "colab_type": "text"
      },
      "cell_type": "markdown",
      "source": [
        "# Exercise 1 - TDT 4265 Computer Vision and Deep Learning\n",
        "Run this to get necessarily python files"
      ]
    },
    {
      "metadata": {
        "id": "7p0T_-oLDsjb",
        "colab_type": "code",
        "colab": {
          "autoexec": {
            "startup": false,
            "wait_interval": 0
          },
          "output_extras": [
            {
              "item_id": 24
            },
            {
              "item_id": 25
            }
          ],
          "base_uri": "https://localhost:8080/",
          "height": 1836
        },
        "outputId": "ff7ddbff-a43c-451a-bd2b-f29ec3fd15e7",
        "executionInfo": {
          "status": "ok",
          "timestamp": 1519828824005,
          "user_tz": -60,
          "elapsed": 8470,
          "user": {
            "displayName": "Sondre Foslien",
            "photoUrl": "https://lh3.googleusercontent.com/a/default-user=s128",
            "userId": "100909827383637641947"
          }
        }
      },
      "cell_type": "code",
      "source": [
        "for module in ('MyNetwork', 'expand_mnist.py', 'mnist.pkl.gz', 'mnist_average_darkness.py', \n",
        "               'mnist_loader.py', 'mnist_svm.py', 'network.py', 'test.py'):\n",
        "  print(module)\n",
        "  !rm {module}\n",
        "  url = 'https://raw.githubusercontent.com/hfalk/TDT4265/master/Exercise%201/{}'.format(module) \n",
        "  !wget {url} \n",
        "!rm -r __pycache__\n",
        "!ls"
      ],
      "execution_count": 1,
      "outputs": [
        {
          "output_type": "stream",
          "text": [
            "MyNetwork\n",
            "rm: cannot remove 'MyNetwork': No such file or directory\n",
            "--2018-02-28 14:40:16--  https://raw.githubusercontent.com/hfalk/TDT4265/master/Exercise%201/MyNetwork\n",
            "Resolving raw.githubusercontent.com (raw.githubusercontent.com)... 151.101.0.133, 151.101.64.133, 151.101.128.133, ...\n",
            "Connecting to raw.githubusercontent.com (raw.githubusercontent.com)|151.101.0.133|:443... connected.\n",
            "HTTP request sent, awaiting response... 200 OK\n",
            "Length: 492526 (481K) [text/plain]\n",
            "Saving to: ‘MyNetwork’\n",
            "\n",
            "MyNetwork           100%[===================>] 480.98K  --.-KB/s    in 0.04s   \n",
            "\n",
            "2018-02-28 14:40:17 (10.5 MB/s) - ‘MyNetwork’ saved [492526/492526]\n",
            "\n",
            "expand_mnist.py\n",
            "rm: cannot remove 'expand_mnist.py': No such file or directory\n",
            "--2018-02-28 14:40:17--  https://raw.githubusercontent.com/hfalk/TDT4265/master/Exercise%201/expand_mnist.py\n",
            "Resolving raw.githubusercontent.com (raw.githubusercontent.com)... 151.101.0.133, 151.101.64.133, 151.101.128.133, ...\n",
            "Connecting to raw.githubusercontent.com (raw.githubusercontent.com)|151.101.0.133|:443... connected.\n",
            "HTTP request sent, awaiting response... 200 OK\n",
            "Length: 1982 (1.9K) [text/plain]\n",
            "Saving to: ‘expand_mnist.py’\n",
            "\n",
            "expand_mnist.py     100%[===================>]   1.94K  --.-KB/s    in 0s      \n",
            "\n",
            "2018-02-28 14:40:17 (42.6 MB/s) - ‘expand_mnist.py’ saved [1982/1982]\n",
            "\n",
            "mnist.pkl.gz\n",
            "rm: cannot remove 'mnist.pkl.gz': No such file or directory\n",
            "--2018-02-28 14:40:18--  https://raw.githubusercontent.com/hfalk/TDT4265/master/Exercise%201/mnist.pkl.gz\n",
            "Resolving raw.githubusercontent.com (raw.githubusercontent.com)... 151.101.0.133, 151.101.64.133, 151.101.128.133, ...\n",
            "Connecting to raw.githubusercontent.com (raw.githubusercontent.com)|151.101.0.133|:443... connected.\n",
            "HTTP request sent, awaiting response... 200 OK\n",
            "Length: 17051982 (16M) [application/octet-stream]\n",
            "Saving to: ‘mnist.pkl.gz’\n",
            "\n",
            "mnist.pkl.gz        100%[===================>]  16.26M  43.8MB/s    in 0.4s    \n",
            "\n",
            "2018-02-28 14:40:19 (43.8 MB/s) - ‘mnist.pkl.gz’ saved [17051982/17051982]\n",
            "\n",
            "mnist_average_darkness.py\n",
            "rm: cannot remove 'mnist_average_darkness.py': No such file or directory\n",
            "--2018-02-28 14:40:19--  https://raw.githubusercontent.com/hfalk/TDT4265/master/Exercise%201/mnist_average_darkness.py\n",
            "Resolving raw.githubusercontent.com (raw.githubusercontent.com)... 151.101.0.133, 151.101.64.133, 151.101.128.133, ...\n",
            "Connecting to raw.githubusercontent.com (raw.githubusercontent.com)|151.101.0.133|:443... connected.\n",
            "HTTP request sent, awaiting response... 200 OK\n",
            "Length: 2673 (2.6K) [text/plain]\n",
            "Saving to: ‘mnist_average_darkness.py’\n",
            "\n",
            "mnist_average_darkn 100%[===================>]   2.61K  --.-KB/s    in 0s      \n",
            "\n",
            "2018-02-28 14:40:19 (68.3 MB/s) - ‘mnist_average_darkness.py’ saved [2673/2673]\n",
            "\n",
            "mnist_loader.py\n",
            "rm: cannot remove 'mnist_loader.py': No such file or directory\n",
            "--2018-02-28 14:40:20--  https://raw.githubusercontent.com/hfalk/TDT4265/master/Exercise%201/mnist_loader.py\n",
            "Resolving raw.githubusercontent.com (raw.githubusercontent.com)... 151.101.0.133, 151.101.64.133, 151.101.128.133, ...\n",
            "Connecting to raw.githubusercontent.com (raw.githubusercontent.com)|151.101.0.133|:443... connected.\n",
            "HTTP request sent, awaiting response... 200 OK\n",
            "Length: 3425 (3.3K) [text/plain]\n",
            "Saving to: ‘mnist_loader.py’\n",
            "\n",
            "mnist_loader.py     100%[===================>]   3.34K  --.-KB/s    in 0s      \n",
            "\n",
            "2018-02-28 14:40:20 (104 MB/s) - ‘mnist_loader.py’ saved [3425/3425]\n",
            "\n",
            "mnist_svm.py\n",
            "rm: cannot remove 'mnist_svm.py': No such file or directory\n",
            "--2018-02-28 14:40:21--  https://raw.githubusercontent.com/hfalk/TDT4265/master/Exercise%201/mnist_svm.py\n",
            "Resolving raw.githubusercontent.com (raw.githubusercontent.com)... 151.101.0.133, 151.101.64.133, 151.101.128.133, ...\n",
            "Connecting to raw.githubusercontent.com (raw.githubusercontent.com)|151.101.0.133|:443... connected.\n",
            "HTTP request sent, awaiting response... 200 OK\n",
            "Length: 758 [text/plain]\n",
            "Saving to: ‘mnist_svm.py’\n",
            "\n",
            "mnist_svm.py        100%[===================>]     758  --.-KB/s    in 0s      \n",
            "\n",
            "2018-02-28 14:40:21 (150 MB/s) - ‘mnist_svm.py’ saved [758/758]\n",
            "\n",
            "network.py\n",
            "rm: cannot remove 'network.py': No such file or directory\n",
            "--2018-02-28 14:40:21--  https://raw.githubusercontent.com/hfalk/TDT4265/master/Exercise%201/network.py\n",
            "Resolving raw.githubusercontent.com (raw.githubusercontent.com)... 151.101.0.133, 151.101.64.133, 151.101.128.133, ...\n",
            "Connecting to raw.githubusercontent.com (raw.githubusercontent.com)|151.101.0.133|:443... connected.\n",
            "HTTP request sent, awaiting response... 200 OK\n",
            "Length: 6700 (6.5K) [text/plain]\n",
            "Saving to: ‘network.py’\n",
            "\n",
            "network.py          100%[===================>]   6.54K  --.-KB/s    in 0s      \n",
            "\n",
            "2018-02-28 14:40:21 (157 MB/s) - ‘network.py’ saved [6700/6700]\n",
            "\n",
            "test.py\n",
            "rm: cannot remove 'test.py': No such file or directory\n",
            "--2018-02-28 14:40:22--  https://raw.githubusercontent.com/hfalk/TDT4265/master/Exercise%201/test.py\n",
            "Resolving raw.githubusercontent.com (raw.githubusercontent.com)... 151.101.0.133, 151.101.64.133, 151.101.128.133, ...\n",
            "Connecting to raw.githubusercontent.com (raw.githubusercontent.com)|151.101.0.133|:443... connected.\n",
            "HTTP request sent, awaiting response... 200 OK\n",
            "Length: 5057 (4.9K) [text/plain]\n",
            "Saving to: ‘test.py’\n",
            "\n",
            "test.py             100%[===================>]   4.94K  --.-KB/s    in 0s      \n",
            "\n",
            "2018-02-28 14:40:22 (101 MB/s) - ‘test.py’ saved [5057/5057]\n",
            "\n",
            "rm: cannot remove '__pycache__': No such file or directory\n"
          ],
          "name": "stdout"
        },
        {
          "output_type": "stream",
          "text": [
            "datalab\t\t mnist_average_darkness.py  mnist.pkl.gz  MyNetwork   test.py\r\n",
            "expand_mnist.py  mnist_loader.py\t    mnist_svm.py  network.py\r\n"
          ],
          "name": "stdout"
        }
      ]
    },
    {
      "metadata": {
        "id": "96OEPkWLt-Lg",
        "colab_type": "text"
      },
      "cell_type": "markdown",
      "source": [
        "## Part 1\n",
        "The simplest form of a neural net is the perceptron, a binary classifier that maps an input to a binary output using a series of weights and biases. \n",
        "![Perceptron illustration](http://ataspinar.com/wp-content/uploads/2016/11/perceptron_schematic_overview.png \"Perceptron\")\n",
        "\n",
        "The perceptron function can be stated as $f(x) = \\begin{cases} 1\\text{ if }w^Tx + b > 0 \\\\ -1 \\text{ otherwise} \\end{cases}$. \n",
        "\n",
        "We can write this as a single multiplication by augmenting the weight and input vectors:\n",
        "$f(x) = \\begin{cases} 1\\text{  if }a^Ty > 0 \\\\ -1 \\text{ otherwise} \\end{cases}$ \n",
        "\n",
        "where a is the augmented weight vector combining the weights and biases, $a = [b, w]^T$, and y is the augmented input vector $y = [1, x]^T$\n",
        "\n",
        "For more information and a description of the learning algorithm see https://en.wikipedia.org/wiki/Perceptron\n"
      ]
    },
    {
      "metadata": {
        "id": "43WvNAcRt-Lh",
        "colab_type": "text"
      },
      "cell_type": "markdown",
      "source": [
        "### Task 1\n",
        "Implement the perceptron algorithm. The skeleton code below can be modified freely and merely offers a starting suggestion. You can asssume all datapoints will be 2 dimensional."
      ]
    },
    {
      "metadata": {
        "id": "6iTM6X3lt-Lh",
        "colab_type": "code",
        "colab": {
          "autoexec": {
            "startup": false,
            "wait_interval": 0
          }
        }
      },
      "cell_type": "code",
      "source": [
        "import numpy as np\n",
        "\n",
        "class Perceptron:\n",
        "    def __init__(self, input_size, labels):\n",
        "        self.input_size = input_size\n",
        "        self.weights = np.zeros((input_size+1,3))\n",
        "        self.labels = labels\n",
        "        self.result = np.zeros(input_size)\n",
        "        \n",
        "    def classify(self, data, element):\n",
        "      temp = 0\n",
        "      for i,j in zip(self.weights[element], data[element]):\n",
        "        temp += i*j\n",
        "      self.result[element] = np.sign(temp)  \n",
        "        \n",
        "    def train_perceptron(self, data):\n",
        "      for x in range(self.input_size):\n",
        "        self.classify(data, x)\n",
        "        self.weights[x+1] = self.weights[x] + (self.labels[x] - self.result[x])*data[x]"
      ],
      "execution_count": 0,
      "outputs": []
    },
    {
      "metadata": {
        "id": "FKT2QhQ0t-Ln",
        "colab_type": "text"
      },
      "cell_type": "markdown",
      "source": [
        "### Task 2\n",
        "The code provided below generates a 2D linearly separable dataset. Use this to train a perceptron classifier and plot the data along with the separating hyperplane. We suggest using pyplot from the matplotlib library for plotting."
      ]
    },
    {
      "metadata": {
        "id": "Rd2YfGPAt-Ln",
        "colab_type": "code",
        "colab": {
          "autoexec": {
            "startup": false,
            "wait_interval": 0
          },
          "output_extras": [
            {
              "item_id": 1
            }
          ],
          "base_uri": "https://localhost:8080/",
          "height": 347
        },
        "outputId": "83c1e6e0-b5f2-4a1c-bf97-3adbb8eea652",
        "executionInfo": {
          "status": "ok",
          "timestamp": 1519830506120,
          "user_tz": -60,
          "elapsed": 955,
          "user": {
            "displayName": "Sondre Foslien",
            "photoUrl": "https://lh3.googleusercontent.com/a/default-user=s128",
            "userId": "100909827383637641947"
          }
        }
      },
      "cell_type": "code",
      "source": [
        "from pylab import rand\n",
        "import numpy as np\n",
        "import matplotlib.pyplot as plt\n",
        "\n",
        "def generateData(n):\n",
        "    \"\"\"\n",
        "    generates a 2D linearly separable dataset with n samples for each class.\n",
        "    Example usage:\n",
        "    trainingData = generateData(40)\n",
        "    x = trainingData[0] returns all the datapoints\n",
        "    y = trainingData[1] returns the corresponding labels\n",
        "    \"\"\"\n",
        "    xb = (rand(n)*2-1)/2-1\n",
        "    yb = (rand(n)*2-1)/2+0\n",
        "    xr = (rand(n)*2-1)/2+0\n",
        "    yr = (rand(n)*2-1)/2-1\n",
        "    inputs = []\n",
        "    labels = []\n",
        "    for i in range(len(xb)):\n",
        "        inputs.append([xb[i],yb[i],-1.0])\n",
        "        labels.append(1)\n",
        "        inputs.append([xr[i],yr[i],-1.0])\n",
        "        labels.append(-1)\n",
        "    return [np.array(inputs), np.array(labels)]\n",
        "\n",
        "dataSize = 40\n",
        "trainingData = generateData(dataSize)\n",
        "x = trainingData[0] #returns all the datapoints\n",
        "y = trainingData[1] #returns the corresponding labels\n",
        "\n",
        "#train perceptron\n",
        "neuron = Perceptron(dataSize*2, y)\n",
        "neuron.train_perceptron(x)\n",
        "\n",
        "#calculate hyperplane\n",
        "growth = -neuron.weights[dataSize-1,1]/neuron.weights[dataSize-1,0]\n",
        "hyperplane = np.zeros((10000, 2))\n",
        "for i in range(10000):\n",
        "  hyperplane[i,0] = ((i/5000) - 1.5)\n",
        "  hyperplane[i,1] = growth*((i/5000) - 1.5)\n",
        "\n",
        "#plot graphs\n",
        "plt.plot(x[:,0],x[:,1], 'ro')\n",
        "plt.plot(hyperplane[:,0], hyperplane[:,1], 'b-')\n",
        "plt.show()\n",
        "\n",
        "\n"
      ],
      "execution_count": 7,
      "outputs": [
        {
          "output_type": "display_data",
          "data": {
            "image/png": "[encoded data removed]",
            "text/plain": [
              "<matplotlib.figure.Figure at 0x7f816887c630>"
            ]
          },
          "metadata": {
            "tags": []
          }
        }
      ]
    },
    {
      "metadata": {
        "id": "EmR_Tod0t-Lq",
        "colab_type": "text"
      },
      "cell_type": "markdown",
      "source": [
        "### Task 3\n",
        "1. Can you find any issues with the way the perceptron algorithm finds a solution? Assume the dataset is linearly separable\n",
        "    \n",
        "2. When the dataset is linearly separable the perceptron algorithm will converge to a solution given enough iterations. However for non-separable data learning can fail completely and the algorithm might never converge. How would you modify the algorithm to ensure at least an approximate solution is found?\n"
      ]
    },
    {
      "metadata": {
        "id": "yR_-3tmPt-Lq",
        "colab_type": "text"
      },
      "cell_type": "markdown",
      "source": [
        "## Part 2\n",
        "\n",
        "### Task 1\n",
        "In this exercise you are going to get familiar with the basics of feedforward neural networks. Look at the code provided below and run it to figure out the accuracy of the network. Start by running the network for 2 epochs. When you are done, increase the number of epochs to 10, and finally run the network for 20 epochs. What are your findings? Compare the results."
      ]
    },
    {
      "metadata": {
        "id": "b5g_ZcODt-Lr",
        "colab_type": "code",
        "colab": {
          "autoexec": {
            "startup": false,
            "wait_interval": 0
          },
          "output_extras": [
            {
              "item_id": 20
            }
          ],
          "base_uri": "https://localhost:8080/",
          "height": 357
        },
        "outputId": "9e05fa9b-f49d-4c3f-f131-99b5b5995504",
        "executionInfo": {
          "status": "ok",
          "timestamp": 1518529231445,
          "user_tz": -60,
          "elapsed": 97727,
          "user": {
            "displayName": "Sondre Foslien",
            "photoUrl": "https://lh3.googleusercontent.com/a/default-user=s128",
            "userId": "100909827383637641947"
          }
        }
      },
      "cell_type": "code",
      "source": [
        "import mnist_loader\n",
        "import network\n",
        "import numpy as np\n",
        "\n",
        "def sigmoid(z):\n",
        "  \"\"\"The sigmoid function.\"\"\"\n",
        "  return 1.0/(1.0+np.exp(-z))\n",
        "\n",
        "def sigmoid_prime(z):\n",
        "  \"\"\"Derivative of the sigmoid function.\"\"\"\n",
        "  return sigmoid(z)*(1-sigmoid(z))\n",
        "\n",
        "training_data, validation_data, test_data = mnist_loader.load_data_wrapper()\n",
        "training_data = list(training_data)\n",
        "validation_data = list(validation_data)\n",
        "\n",
        "net = network.Network([784, 10, 10])\n",
        "net.SGD(training_data, 20, 10, 3.0, sigmoid, sigmoid_prime, test_data=test_data)"
      ],
      "execution_count": 9,
      "outputs": [
        {
          "output_type": "stream",
          "text": [
            "Epoch 0 : 8709 / 10000\n",
            "Epoch 1 : 8866 / 10000\n",
            "Epoch 2 : 8990 / 10000\n",
            "Epoch 3 : 9089 / 10000\n",
            "Epoch 4 : 9065 / 10000\n",
            "Epoch 5 : 9113 / 10000\n",
            "Epoch 6 : 9079 / 10000\n",
            "Epoch 7 : 9077 / 10000\n",
            "Epoch 8 : 9127 / 10000\n",
            "Epoch 9 : 9203 / 10000\n",
            "Epoch 10 : 9171 / 10000\n",
            "Epoch 11 : 9073 / 10000\n",
            "Epoch 12 : 9135 / 10000\n",
            "Epoch 13 : 9079 / 10000\n",
            "Epoch 14 : 9184 / 10000\n",
            "Epoch 15 : 9069 / 10000\n",
            "Epoch 16 : 9133 / 10000\n",
            "Epoch 17 : 9134 / 10000\n",
            "Epoch 18 : 9152 / 10000\n",
            "Epoch 19 : 9157 / 10000\n"
          ],
          "name": "stdout"
        }
      ]
    },
    {
      "metadata": {
        "id": "frIxh1hPt-Lt",
        "colab_type": "text"
      },
      "cell_type": "markdown",
      "source": [
        "### Task 2\n",
        "\n",
        "Modify the network to understand how its architecture affect its performance. Start by reducing the number of neurons in the hidden layer to 2, then make it 20. How does it affect the accuracy of the network? Train the network for 2, 10 and 20 epochs. When you are done with this, experiment with adding more hidden layers to the network. What happens?"
      ]
    },
    {
      "metadata": {
        "id": "jqVkiUDat-Lu",
        "colab_type": "code",
        "colab": {
          "autoexec": {
            "startup": false,
            "wait_interval": 0
          },
          "output_extras": [
            {
              "item_id": 10
            }
          ],
          "base_uri": "https://localhost:8080/",
          "height": 187
        },
        "outputId": "a87baf32-6f93-4c58-dea5-8b85df8e3e16",
        "executionInfo": {
          "status": "ok",
          "timestamp": 1518532561378,
          "user_tz": -60,
          "elapsed": 125607,
          "user": {
            "displayName": "Sondre Foslien",
            "photoUrl": "https://lh3.googleusercontent.com/a/default-user=s128",
            "userId": "100909827383637641947"
          }
        }
      },
      "cell_type": "code",
      "source": [
        "import mnist_loader\n",
        "import network\n",
        "\n",
        "def sigmoid(z):\n",
        "  \"\"\"The sigmoid function.\"\"\"\n",
        "  return 1.0/(1.0+np.exp(-z))\n",
        "\n",
        "def sigmoid_prime(z):\n",
        "  \"\"\"Derivative of the sigmoid function.\"\"\"\n",
        "  return sigmoid(z)*(1-sigmoid(z))\n",
        "\n",
        "training_data, validation_data, test_data = mnist_loader.load_data_wrapper()\n",
        "training_data = list(training_data)\n",
        "validation_data = list(validation_data)\n",
        "\n",
        "net = network.Network([784, 20, 20, 10])\n",
        "net.SGD(training_data, 10, 10, 3.0, sigmoid, sigmoid_prime, test_data=test_data)"
      ],
      "execution_count": 13,
      "outputs": [
        {
          "output_type": "stream",
          "text": [
            "Epoch 0 : 8905 / 10000\n",
            "Epoch 1 : 9142 / 10000\n",
            "Epoch 2 : 9237 / 10000\n",
            "Epoch 3 : 9237 / 10000\n",
            "Epoch 4 : 9300 / 10000\n",
            "Epoch 5 : 9328 / 10000\n",
            "Epoch 6 : 9294 / 10000\n",
            "Epoch 7 : 9322 / 10000\n",
            "Epoch 8 : 9363 / 10000\n",
            "Epoch 9 : 9366 / 10000\n"
          ],
          "name": "stdout"
        }
      ]
    },
    {
      "metadata": {
        "id": "kMuE5XEnt-Lw",
        "colab_type": "text"
      },
      "cell_type": "markdown",
      "source": [
        "# Answers\n",
        "Add your answers here.\n",
        "\n",
        "## Part 1\n",
        "\n",
        "#### Task 1\n",
        "\n",
        "#### Task 2\n",
        "\n",
        "#### Task 3\n",
        "\n",
        "1. The answer is either 1 or -1, no inbetween. A small change in weights can completely flip the perceptron. This becomes a problem when there is more than two containers to classify the input into. You want a small change to result in a small change in the output, but since it completely flips it might completely flip everything else, and give a big change. Also, It does not find an optimal solution, only a solution.\n",
        "\n",
        "2. Use some way of making the learning set separable, or using multi-layer networks. \n",
        "\n",
        "\n",
        "## Part 2\n",
        "\n",
        "#### Task 1\n",
        "\n",
        "**For 2 batches: **\n",
        "\n",
        "Epoch 0 : 8818 / 10000\n",
        "\n",
        "Epoch 1 : 9001 / 10000\n",
        "\n",
        "\n",
        "**For 10 batches: **\n",
        "\n",
        "Epoch 0 : 8647 / 10000\n",
        "\n",
        "Epoch 1 : 8932 / 10000\n",
        "\n",
        "Epoch 2 : 8978 / 10000\n",
        "\n",
        "Epoch 3 : 9047 / 10000\n",
        "\n",
        "Epoch 4 : 9048 / 10000\n",
        "\n",
        "Epoch 5 : 9112 / 10000\n",
        "\n",
        "Epoch 6 : 9088 / 10000\n",
        "\n",
        "Epoch 7 : 9139 / 10000\n",
        "\n",
        "Epoch 8 : 9053 / 10000\n",
        "\n",
        "Epoch 9 : 9136 / 10000\n",
        "\n",
        "\n",
        "**For 20 batches**\n",
        "\n",
        "Epoch 0 : 8709 / 10000\n",
        "\n",
        "Epoch 1 : 8866 / 10000\n",
        "\n",
        "Epoch 2 : 8990 / 10000\n",
        "\n",
        "Epoch 3 : 9089 / 10000\n",
        "\n",
        "Epoch 4 : 9065 / 10000\n",
        "\n",
        "Epoch 5 : 9113 / 10000\n",
        "\n",
        "Epoch 6 : 9079 / 10000\n",
        "\n",
        "Epoch 7 : 9077 / 10000\n",
        "\n",
        "Epoch 8 : 9127 / 10000\n",
        "\n",
        "Epoch 9 : 9203 / 10000\n",
        "\n",
        "Epoch 10 : 9171 / 10000\n",
        "\n",
        "Epoch 11 : 9073 / 10000\n",
        "\n",
        "Epoch 12 : 9135 / 10000\n",
        "\n",
        "Epoch 13 : 9079 / 10000\n",
        "\n",
        "Epoch 14 : 9184 / 10000\n",
        "\n",
        "Epoch 15 : 9069 / 10000\n",
        "\n",
        "Epoch 16 : 9133 / 10000\n",
        "\n",
        "Epoch 17 : 9134 / 10000\n",
        "\n",
        "Epoch 18 : 9152 / 10000\n",
        "\n",
        "Epoch 19 : 9157 / 10000\n",
        "\n",
        "The network reaches a plateu after about 5 epoches. After that it swings up and down, the training makes it better and worse depending on the training input. It is not able to reach more than about 92 % accuracy. \n",
        "\n",
        "#### Task 2\n",
        "\n",
        "**2 neurons in the hidden layer:**\n",
        "\n",
        "Epoch 9 : 3598 / 10000\n",
        "\n",
        "This results in very bad accuracy, since there isn't enough neurons to succesfully classify into 9 different categories\n",
        "\n",
        "**20 neurons in the hidden layer**\n",
        "\n",
        "Epoch 9 : 9329 / 10000\n",
        "\n",
        "This results in much better accuracy, also better than the 10-neuron solution. This also results in much longer run-time, since there is ten times as many weights to update compared to the 2 neuron-solution.\n"
      ]
    }
  ]
}